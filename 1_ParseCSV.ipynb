{
 "cells": [
  {
   "cell_type": "markdown",
   "id": "modified-cookie",
   "metadata": {},
   "source": [
    "# Parse 001.csv \n"
   ]
  },
  {
   "cell_type": "code",
   "execution_count": null,
   "id": "distributed-davis",
   "metadata": {},
   "outputs": [],
   "source": [
    "! pip install matplotlib\n",
    "! pip install pandas\n"
   ]
  },
  {
   "cell_type": "markdown",
   "id": "numerical-graduate",
   "metadata": {},
   "source": [
    "# 計算診斷為mdd的數量"
   ]
  },
  {
   "cell_type": "code",
   "execution_count": null,
   "id": "assured-genre",
   "metadata": {},
   "outputs": [],
   "source": [
    "###檢查pd.dataframe.column的types.\n",
    "import os, pandas as pd, numpy as np\n",
    "sourcePath=os.path.join('/', \"Users\",\"sam\",\"Desktop\",\"000.csv\")\n",
    "myDf=pd.read_csv(sourcePath)\n",
    "len(myDf)\n"
   ]
  },
  {
   "cell_type": "code",
   "execution_count": null,
   "id": "accurate-blake",
   "metadata": {},
   "outputs": [],
   "source": [
    "\n",
    "##轉換到院年為數字型式\n",
    "print(myDf['到院年'].dtypes)\n",
    "myDf['admYear']=pd.to_numeric(myDf['到院年'],'coerce')\n",
    "#print(myDf['admYear'].dtypes)\n",
    "myDf.loc[myDf['admYear']>200.0,'admYear'] -=1911.0\n",
    "##myDf['admYear'].value_counts() ###發現有民國2年或民國7年的....應為筆誤..平均每年有1,500份病歷...\n",
    "###刪除93年以前的資料...\n",
    "myDf=myDf.loc[myDf['admYear']>93] ##結果有24,183筆\n",
    "myDf['admYear'].groupby(myDf['admYear'] ).value_counts()"
   ]
  },
  {
   "cell_type": "code",
   "execution_count": null,
   "id": "checked-remark",
   "metadata": {},
   "outputs": [],
   "source": [
    "'''\n",
    "###檢查pd.dataframe.column的types.\n",
    "import os, pandas as pd, numpy as np\n",
    "sourcePath=os.path.join('/', \"Users\",\"sam\",\"Desktop\",\"000.csv\")\n",
    "myDf=pd.read_csv(sourcePath)\n",
    "\n",
    "##轉換到院年為數字型式\n",
    "print(myDf['到院年'].dtypes)\n",
    "myDf['admYear']=pd.to_numeric(myDf['到院年'],'coerce')\n",
    "#print(myDf['admYear'].dtypes)\n",
    "myDf.loc[myDf['admYear']>200.0,'admYear'] -=1911.0\n",
    "##myDf['admYear'].value_counts() ###發現有民國2年或民國7年的....應為筆誤..平均每年有1,500份病歷...\n",
    "###刪除93年以前的資料...\n",
    "myDf=myDf.loc[myDf['admYear']>93] ##結果有24,183筆\n",
    "##len(myDf)\n",
    "'''\n",
    "##轉換出生年為數字型式..\n",
    "myDf['birthYear']=pd.to_numeric(myDf['出生年'],'coerce')\n",
    "myDf.loc[myDf['birthYear']>500.0,'birthYear'] -=1911.0\n",
    "\n",
    "##刪除birthYear <0者..\n",
    "myDf=myDf.loc[myDf['birthYear']>10]\n",
    "\n",
    "##計算年齡\n",
    "myDf['age']=myDf['admYear']-myDf['birthYear']\n",
    "myDf=myDf.loc[myDf['age']>11.0]\n",
    "myDf['age'].groupby(myDf['age']).value_counts(sort=True) ##依照年齡排序\n",
    "myDf['age'].value_counts(sort=True, ascending=True) ##依照人數排序\n"
   ]
  },
  {
   "cell_type": "markdown",
   "id": "surface-infrared",
   "metadata": {},
   "source": [
    "# 統計基本資料..groupby"
   ]
  },
  {
   "cell_type": "code",
   "execution_count": null,
   "id": "potential-shift",
   "metadata": {},
   "outputs": [],
   "source": [
    "'''\n",
    "import os, pandas as pd, numpy as np\n",
    "sourcePath=os.path.join('/', \"Users\",\"sam\",\"Desktop\",\"000.csv\")\n",
    "myDf=pd.read_csv(sourcePath)\n",
    "\n",
    "myDf['age']=pd.to_numeric(myDf['到院年'],'coerce')-pd.to_numeric(myDf['出生年'],'coerce')\n",
    "###去除年齡大於100以上者\n",
    "myDf=myDf.loc[pd.to_numeric(myDf['age'],'coerce')<=100]\n",
    "myDf=myDf.loc[pd.to_numeric(myDf['age'],'coerce')>=10]\n",
    "'''\n",
    "\n",
    "myDf['sex']=myDf['身份證號'].str[1]\n",
    "myDf['depres']=0\n",
    "myCondition=myDf.診斷.str.contains('depres')>0\n",
    "myColumn='depres'\n",
    "myDf.loc[myCondition, myColumn]=1\n",
    "myDf[\"軍人\"]=1\n",
    "myDf.loc[pd.isna(myDf['部隊']),'軍人']=0\n",
    "##選擇depression診斷的人...\n",
    "mddDf=myDf.loc[myDf['depres']==1]\n",
    "sexMddDf=mddDf.loc[mddDf['sex'].isin(['1','2'])]\n",
    "##sexMddDf['age'].value_counts() ###發現還是有大於85歲的人..但很少\n",
    "##計算年齡平均值及標準差...\n",
    "##sexMddDf.groupby(['軍人','sex']).agg({'age':['mean','std', np.min, np.max]})\n",
    "###選擇年齡小於10大於100歲者,check一下怎麼一回事...\n",
    "##AgeMddDf=sexMddDf[(sexMddDf['age']<=10) | (sexMddDf['age']>=100)] ##果然是到院年多以西元登記的原因...\n",
    "\n",
    "'''\n",
    "sexMddDf.groupby(['軍人','sex']).agg(['count'])\n",
    "from matplotlib import pyplot as plt\n",
    "plt.hist(myDf.loc[:,pd.to_numeric(myDf['到院年'],'coerce')],range=[0,2020])\n",
    "plt.show()\n",
    "'''\n",
    "#pd.set_option('display.max_colwidth', None)\n",
    "#myDf[['診斷','depres']].head(10)\n",
    "#sexMddDf.head(-3)\n",
    "##len(AgeMddDf)\n",
    "##sexMddDf['age'].value_counts()\n",
    "#sexMddDf.groupby(['軍人','sex']).agg({'age':['mean','std', np.min, np.max], '身份證號':['count',pd.Series.nunique]})\n",
    "#sexMddDf.groupby(['軍人']).agg({'age':['mean','std', np.min, np.max], '身份證號':['count',pd.Series.nunique]})\n",
    "##依到院年排序\n",
    "#sexMddDf.groupby(['軍人','admYear']).agg({'身份證號':['count',pd.Series.nunique]})\n",
    "sexMddDf.head(-2)\n",
    "##依醫師排序\n",
    "##pd.set_option(\"display.max_rows\", sexMddDf.index.shape[0])\n",
    "sexMddDf.groupby(['軍人','醫師']).agg({'身份證號':['count',pd.Series.nunique]})"
   ]
  },
  {
   "cell_type": "markdown",
   "id": "subtle-circulation",
   "metadata": {},
   "source": [
    "# 將list的文字串起來"
   ]
  },
  {
   "cell_type": "code",
   "execution_count": null,
   "id": "vertical-patrick",
   "metadata": {},
   "outputs": [],
   "source": [
    "## Test for Join\n",
    "myStrings=['AA','BB','cc',123,'我是中文']\n",
    "''.join(map(str,myStrings))"
   ]
  },
  {
   "cell_type": "code",
   "execution_count": null,
   "id": "innocent-scheduling",
   "metadata": {},
   "outputs": [],
   "source": [
    "top5Df=sexMddDf[['現在病史']].head(5)\n",
    "#top5Df.head()\n",
    "myString=''.join(map(str,top5Df['現在病史']))\n",
    "len(myString)"
   ]
  },
  {
   "cell_type": "markdown",
   "id": "overhead-prime",
   "metadata": {},
   "source": [
    "## 用jieba切詞,並用|分開..."
   ]
  },
  {
   "cell_type": "code",
   "execution_count": null,
   "id": "overall-visitor",
   "metadata": {},
   "outputs": [],
   "source": [
    "top5Df=sexMddDf[['現在病史']].head(5)\n",
    "#top5Df.head()\n",
    "myString=''.join(map(str,top5Df['現在病史']))\n",
    "\n",
    "import jieba, sys \n",
    "#reload(sys)\n",
    "#sys.setdefaultendcoding(\"utf-8\")\n",
    "jieba.initialize()\n",
    "##seg_list=jieba.cut(myString, cut_all=False)\n",
    "##print(\"|\".join([x for x in seg_list if len(x.strip())>0]))\n",
    "##輸出output.txt\n",
    "output_file_name=\"output.txt\"\n",
    "output_file=open(output_file_name,\"w\",encoding=\"utf-8\")\n",
    "while True:\n",
    "    line= myString\n",
    "    if line:\n",
    "        line=line.strip()\n",
    "        if len(line)>0:\n",
    "            seg_list=jieba.cut(line)\n",
    "            segments = \"\"\n",
    "            for s in seg_list:\n",
    "                segments = segments + \"|\"+ s.replace(\" \",\"\").replace(\" \",\"\").strip()\n",
    "            segments = segments.replace(\" \",\"\").strip() + \"\\n\"\n",
    "            output_file.write(segments)\n",
    "    else:\n",
    "        break\n",
    "output_file.close()"
   ]
  },
  {
   "cell_type": "markdown",
   "id": "aware-massachusetts",
   "metadata": {},
   "source": [
    "## 使用stopword.txt"
   ]
  },
  {
   "cell_type": "code",
   "execution_count": null,
   "id": "passive-plymouth",
   "metadata": {},
   "outputs": [],
   "source": [
    "top5Df=sexMddDf[['現在病史']].head(5)\n",
    "#top5Df.head()\n",
    "myString=''.join(map(str,top5Df['現在病史']))\n",
    "\n",
    "import jieba, sys \n",
    "#reload(sys)\n",
    "#sys.setdefaultendcoding(\"utf-8\")\n",
    "jieba.initialize()\n",
    "##建立stopwordset\n",
    "stopwordset=set()\n",
    "with open('stopwords.txt','r',encoding='utf-8') as sw:\n",
    "    for line in sw:\n",
    "        stopwordset.add(line.strip('\\n'))\n",
    "\n",
    "output_file_name=\"output.txt\"\n",
    "output_file=open(output_file_name,\"w\",encoding=\"utf-8\")\n",
    "while True:\n",
    "    line= myString\n",
    "    if line:\n",
    "        line=line.strip()\n",
    "        if len(line)>0:\n",
    "            seg_list=jieba.cut(line)\n",
    "            segments = \"\"\n",
    "            for s in seg_list:\n",
    "                if (s not in stopwordset) and len(s) >1:\n",
    "                    segments = segments + \"|\"+ s.replace(\" \",\"\").replace(\" \",\"\").strip()\n",
    "            if len(segments.strip())>0:\n",
    "                segments = segments.replace(\" \",\"\").strip() + \"\\n\"\n",
    "                output_file.write(segments)\n",
    "    else:\n",
    "        break\n",
    "output_file.close()"
   ]
  },
  {
   "cell_type": "code",
   "execution_count": null,
   "id": "threatened-dietary",
   "metadata": {},
   "outputs": [],
   "source": [
    "import os, pandas as pd, numpy as np\n",
    "sourcePath=os.path.join('/', \"Users\",\"sam\",\"Desktop\",\"000.csv\")\n",
    "myDf=pd.read_csv(sourcePath)\n",
    "myDf.loc[pd.to_numeric(myDf[\"到院年\"],'coerce')>200,int(\"到院年\")]-= 1911 ###這邊會出問題...\n",
    "myDf['age']=pd.to_numeric(myDf['到院年'],'coerce')-pd.to_numeric(myDf['出生年'],'coerce')\n",
    "myDf['sex']=myDf['身份證號'].str[1]\n",
    "myDf['depres']=0\n",
    "myCondition=myDf.診斷.str.contains('depres')>0\n",
    "myColumn='depres'\n",
    "myDf.loc[myCondition, myColumn]=1\n",
    "myDf[\"軍人\"]=1\n",
    "myDf.loc[pd.isna(myDf['部隊']),'軍人']=0\n",
    "mddDf=myDf.loc[myDf['depres']==1]\n",
    "sexMddDf=mddDf.loc[mddDf['sex'].isin(['1','2'])]\n",
    "##計算年齡平均值及標準差...\n",
    "#sexMddDf.groupby(['軍人','sex']).agg({'age':['mean','std', np.min, np.max]}) ##發現年齡有1986歲..應是算到西元了...\n",
    "###選擇年齡小於10大於100歲者,check一下怎麼一回事...\n",
    "AgeMddDf=sexMddDf[(sexMddDf['age']<=10) | (sexMddDf['age']>=100)] ##果然是到院年多以西元登記的原因...\n",
    "\n",
    "\n",
    "'''\n",
    "sexMddDf.groupby(['軍人','sex']).agg(['count'])\n",
    "from matplotlib import pyplot as plt\n",
    "plt.hist(myDf.loc[:,pd.to_numeric(myDf['到院年'],'coerce')],range=[0,2020])\n",
    "plt.show()\n",
    "'''\n",
    "#pd.set_option('display.max_colwidth', None)\n",
    "#myDf[['診斷','depres']].head(10)\n",
    "#sexMddDf.head(-3)\n",
    "len(AgeMddDf)\n",
    "AgeMddDf.head(-5)\n",
    "\n"
   ]
  },
  {
   "cell_type": "markdown",
   "id": "molecular-lingerie",
   "metadata": {},
   "source": [
    "# Dataframe.to_numeric(coerce)\n",
    "is_integer"
   ]
  },
  {
   "cell_type": "code",
   "execution_count": null,
   "id": "controlled-utilization",
   "metadata": {},
   "outputs": [],
   "source": [
    "import os, pandas as pd\n",
    "sourcePath=os.path.join('/', \"Users\",\"sam\",\"Desktop\",\"000.csv\")\n",
    "myDf=pd.read_csv(sourcePath)\n",
    "myDf[\"年齡\"]=pd.to_numeric(myDf[\"到院年\"],'coerce')-pd.to_numeric(myDf[\"出生年\"],'coerce')\n",
    "myDf[\"性別\"]=myDf[\"身份證號\"].str[1]\n",
    "myDf.head(-10)"
   ]
  },
  {
   "cell_type": "code",
   "execution_count": null,
   "id": "blessed-wrapping",
   "metadata": {},
   "outputs": [],
   "source": [
    "import os, pandas as pd\n",
    "sourcePath=os.path.join('/', \"Users\",\"sam\",\"Desktop\",\"000.csv\")\n",
    "myDf=pd.read_csv(sourcePath)\n",
    "myDf[\"年齡\"]=pd.to_numeric(myDf[\"到院年\"],'coerce')-pd.to_numeric(myDf[\"出生年\"],'coerce')\n",
    "myDf[\"性別\"]=myDf[\"身份證號\"].str[1]\n",
    "myDf[\"軍人\"]=1\n",
    "myDf.loc[pd.isna(myDf['部隊']),'軍人']=0\n",
    "#Histogram for age distibution\n",
    "from matplotlib import pyplot as plt\n",
    "plt.hist(myDf.loc[:,['年齡']],range=[0,100])\n",
    "plt.show()\n",
    "DxDf=myDf.groupby('主診斷').agg(['count'])\n",
    "DxDf[\"病歷號\"]\n",
    "SexDf=myDf.groupby(['軍人','性別']).agg(['count'])\n",
    "SexDf"
   ]
  },
  {
   "cell_type": "markdown",
   "id": "handmade-shopping",
   "metadata": {},
   "source": [
    "# Divice age for 65\n"
   ]
  },
  {
   "cell_type": "code",
   "execution_count": null,
   "id": "sound-heating",
   "metadata": {},
   "outputs": [],
   "source": [
    "import os, pandas as pd\n",
    "sourcePath=os.path.join('/', \"Users\",\"sam\",\"Desktop\",\"000.csv\")\n",
    "myDf=pd.read_csv(sourcePath)\n",
    "myDf[\"年齡\"]=pd.to_numeric(myDf[\"到院年\"],'coerce')-pd.to_numeric(myDf[\"出生年\"],'coerce')\n",
    "oldDf=myDf[myDf[\"年齡\"]>=65]\n",
    "print(len(oldDf)) ###共636名大於65歲的考人\n",
    "soldierDf=myDf[~pd.isna(myDf['部隊'])] ##部隊非NaN者\n",
    "print(len(soldierDf))\n",
    "soldierDf.head(-5)\n"
   ]
  },
  {
   "cell_type": "code",
   "execution_count": null,
   "id": "enclosed-denmark",
   "metadata": {},
   "outputs": [],
   "source": [
    "import os, pandas as pd\n",
    "sourcePath=os.path.join('/', \"Users\",\"sam\",\"Desktop\",\"000.csv\")\n",
    "targetPath=os.path.join('/',\"users\",\"sam\",\"desktop\")\n",
    "myData = pd.read_csv(sourcePath)\n",
    "print(len(myData))\n",
    "result_df=myData.loc[myData[\"到院年\"]=='到院時間:民國'] ##發現有164筆有錯...\n",
    "minus_df=myData.drop(myData[myData[\"到院年\"]==\"到院時間:民國\"].index)\n",
    "print(len(result_df))\n",
    "print(len(minus_df))\n",
    "try:\n",
    "    minus_df[\"年齡\"]=int(minus_df[\"到院年\"])-int(minus_df[\"出生年\"])\n",
    "except Exception as e:\n",
    "    print(e)\n",
    "from matplotlib import pyplot as plt\n",
    "plt.hist(minus_df.loc[:,['年齡']])\n",
    "plt.show()"
   ]
  },
  {
   "cell_type": "code",
   "execution_count": null,
   "id": "natural-validation",
   "metadata": {},
   "outputs": [],
   "source": [
    "myData = pd.read_csv(sourcePath)\n",
    "print(len(myData))\n",
    "myData.head(1)\n",
    "## Calculate age\n"
   ]
  }
 ],
 "metadata": {
  "kernelspec": {
   "display_name": "Python 3",
   "language": "python",
   "name": "python3"
  },
  "language_info": {
   "codemirror_mode": {
    "name": "ipython",
    "version": 3
   },
   "file_extension": ".py",
   "mimetype": "text/x-python",
   "name": "python",
   "nbconvert_exporter": "python",
   "pygments_lexer": "ipython3",
   "version": "3.8.5"
  }
 },
 "nbformat": 4,
 "nbformat_minor": 5
}
