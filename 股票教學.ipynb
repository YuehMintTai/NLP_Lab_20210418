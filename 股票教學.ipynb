{
 "cells": [
  {
   "cell_type": "code",
   "execution_count": 1,
   "metadata": {
    "colab": {
     "base_uri": "https://localhost:8080/"
    },
    "id": "8u45Gs6TwxI0",
    "outputId": "cc6bcad7-0509-4b91-c36f-b5d50f039f94"
   },
   "outputs": [
    {
     "name": "stdout",
     "output_type": "stream",
     "text": [
      "Requirement already satisfied: twstock in /anaconda3/anaconda3/lib/python3.6/site-packages (1.1.1)\n",
      "Requirement already satisfied: requests in /anaconda3/anaconda3/lib/python3.6/site-packages (from twstock) (2.18.4)\n",
      "Requirement already satisfied: chardet<3.1.0,>=3.0.2 in /anaconda3/anaconda3/lib/python3.6/site-packages (from requests->twstock) (3.0.4)\n",
      "Requirement already satisfied: idna<2.7,>=2.5 in /anaconda3/anaconda3/lib/python3.6/site-packages (from requests->twstock) (2.6)\n",
      "Requirement already satisfied: urllib3<1.23,>=1.21.1 in /anaconda3/anaconda3/lib/python3.6/site-packages (from requests->twstock) (1.22)\n",
      "Requirement already satisfied: certifi>=2017.4.17 in /anaconda3/anaconda3/lib/python3.6/site-packages (from requests->twstock) (2019.3.9)\n",
      "\u001b[33mWARNING: You are using pip version 20.3.3; however, version 21.0.1 is available.\n",
      "You should consider upgrading via the '/anaconda3/anaconda3/bin/python -m pip install --upgrade pip' command.\u001b[0m\n"
     ]
    }
   ],
   "source": [
    "# 安裝twstock\n",
    "!pip install twstock"
   ]
  },
  {
   "cell_type": "code",
   "execution_count": 11,
   "metadata": {
    "id": "F0zVNr7yxBxi"
   },
   "outputs": [],
   "source": [
    "# 匯入模組\n",
    "import twstock\n",
    "import time\n",
    "import csv\n",
    "import pandas as pd\n",
    "import matplotlib.pyplot as plt"
   ]
  },
  {
   "cell_type": "markdown",
   "metadata": {},
   "source": [
    "# time.sleep(secs)\n",
    "\n",
    "\n",
    "Suspend execution of the calling thread for the given number of seconds. The argument may be a floating point number to indicate a more precise sleep time. The actual suspension time may be less than that requested because any caught signal will terminate the sleep() following execution of that signal’s catching routine. Also, the suspension time may be longer than requested by an arbitrary amount because of the scheduling of other activity in the system."
   ]
  },
  {
   "cell_type": "markdown",
   "metadata": {},
   "source": [
    "# 下方是讓不會改程式的使用者可以手動輸入股票代號與區間的程式"
   ]
  },
  {
   "cell_type": "code",
   "execution_count": 5,
   "metadata": {
    "id": "m19qbvgUxDIK"
   },
   "outputs": [
    {
     "name": "stdout",
     "output_type": "stream",
     "text": [
      "請輸入股票代號：2330\n",
      "請輸入起始年份：2020\n",
      "請輸入起始月份：5\n",
      "請輸入結束年份：2021\n",
      "請輸入結束月份：3\n"
     ]
    }
   ],
   "source": [
    "# 基本參數\n",
    "stock_code = input('請輸入股票代號：') # 股票代號\n",
    "start_year = int(input('請輸入起始年份：'))  # 起始年份，轉換型別成整數\n",
    "start_month = int(input('請輸入起始月份：'))  # 起始月份，轉換型別成整數\n",
    "finish_year = int(input('請輸入結束年份：')) # 結束年份，轉換型別成整數\n",
    "finish_month = int(input('請輸入結束月份：'))  # 結束月份，轉換型別成整數\n",
    "#檔案名稱\n",
    "file_name = stock_code + \"_\" + str(start_year) + \"_\" + str(start_month) + \"_\" + str(finish_year) + \"_\" + str(finish_month)"
   ]
  },
  {
   "cell_type": "markdown",
   "metadata": {},
   "source": [
    "# 下方是讓會看程式碼的使用者可以直接改變數的程式"
   ]
  },
  {
   "cell_type": "code",
   "execution_count": 15,
   "metadata": {},
   "outputs": [],
   "source": [
    "# 基本參數\n",
    "stock_code = \"2330\" # 股票代號\n",
    "start_year = 2020 # 起始年份\n",
    "start_month = 10  # 起始月份\n",
    "finish_year = 2021 # 結束年份\n",
    "finish_month = 2  # 結束月份\n",
    "#檔案名稱\n",
    "file_name = stock_code + \"_\" + str(start_year) + \"_\" + str(start_month) + \"_\" + str(finish_year) + \"_\" + str(finish_month)"
   ]
  },
  {
   "cell_type": "code",
   "execution_count": 16,
   "metadata": {
    "colab": {
     "base_uri": "https://localhost:8080/"
    },
    "id": "uSbxr-AByBwG",
    "outputId": "339e2cc0-f5ef-4b7f-8390-3987f68265ca"
   },
   "outputs": [
    {
     "name": "stdout",
     "output_type": "stream",
     "text": [
      "2020 年 10 月  資料抓取中...\n",
      "2020 年 11 月  資料抓取中...\n",
      "2020 年 12 月  資料抓取中...\n",
      "2021 年 1 月  資料抓取中...\n",
      "2021 年 2 月  資料抓取中...\n",
      "finish\n"
     ]
    }
   ],
   "source": [
    "# 初始化\n",
    "stock = twstock.Stock(stock_code)\n",
    "data_list = []\n",
    "\n",
    "#透過 twstock API 抓取資料\n",
    "for year in range(start_year, finish_year+1):   # 因python的特性for只會取到finish_year，但不取得finish_year本身，因此必須加上1\n",
    "    for month in range(1, 13):\n",
    "\n",
    "        if year == start_year and month < start_month: #避免抓取到起始月份之前的數據\n",
    "            continue\n",
    "\n",
    "        print(year, \"年\", month, \"月  資料抓取中...\")\n",
    "        data_list.append(stock.fetch(year, month))  # 將抓到的資料匯入data_list\n",
    "        #print(stock.fetch(year, month))#查看輸入的資料格式\n",
    "\n",
    "        if year == finish_year and month == finish_month: # 若與結束年月符合則跳出for\n",
    "            break\n",
    "\n",
    "        time.sleep(15) # 避免被鎖IP，故意延長時間 \n",
    "        \n",
    "print(\"finish\")"
   ]
  },
  {
   "cell_type": "code",
   "execution_count": 17,
   "metadata": {},
   "outputs": [
    {
     "data": {
      "text/plain": [
       "list"
      ]
     },
     "execution_count": 17,
     "metadata": {},
     "output_type": "execute_result"
    }
   ],
   "source": [
    "type(stock.fetch(year, month))#fetch函式用於取得(X年，X月)之股票資料"
   ]
  },
  {
   "cell_type": "markdown",
   "metadata": {},
   "source": [
    "# fetch函式用法\n",
    "\n",
    "stock.fetch(2015, 7)  # 獲取 2015 年 7 月之股票資料\n",
    "\n",
    "stock.fetch(2010, 5)  # 獲取 2010 年 5 月之股票資料\n",
    "\n",
    "stock.fetch_31()      # 獲取近 31 日開盤之股票資料\n",
    "\n",
    "stock.fetch_from(2000, 10)  # 獲取 2000 年 10 月至今日之股票資料\n"
   ]
  },
  {
   "cell_type": "code",
   "execution_count": 18,
   "metadata": {
    "id": "2JYlYTTayRJq"
   },
   "outputs": [],
   "source": [
    "#寫入CSV\n",
    "with open(file_name + '.csv', 'w', newline='') as csvfile:\n",
    "    writer = csv.writer(csvfile)\n",
    "\n",
    "    # 寫入資料欄位\n",
    "    writer.writerow(['date', 'open', 'close', 'high', 'low', 'capacity', 'change'])\n",
    "\n",
    "    for data_list_month in data_list:\n",
    "        for data in data_list_month:\n",
    "            \n",
    "            # 將\"時間, 開盤, 收盤, 最高, 最低, 成交, 漲跌\"寫入CSV檔\n",
    "            writer.writerow([data[0].strftime( '%Y-%m-%d' ), data[3], data[6], data[4], data[5], data[1], data[7]])"
   ]
  },
  {
   "cell_type": "code",
   "execution_count": 19,
   "metadata": {
    "id": "98ISdMgqyvrD"
   },
   "outputs": [],
   "source": [
    "# 第二部分，可分割"
   ]
  },
  {
   "cell_type": "code",
   "execution_count": 20,
   "metadata": {},
   "outputs": [
    {
     "name": "stdout",
     "output_type": "stream",
     "text": [
      "2330_2020_10_2021_2.csv\n"
     ]
    }
   ],
   "source": [
    "#自動產製csv檔案名稱，讓下方讀入csv資料部分可以不用手動輸入檔案名稱\n",
    "csvfile_name=str(file_name)+\".csv\"\n",
    "print(csvfile_name)"
   ]
  },
  {
   "cell_type": "code",
   "execution_count": 21,
   "metadata": {
    "colab": {
     "base_uri": "https://localhost:8080/",
     "height": 301
    },
    "id": "Q87dDX8xy9Ii",
    "outputId": "27e97de7-51ed-4f69-c916-2e56b7874b66"
   },
   "outputs": [
    {
     "data": {
      "image/png": "[encoded data removed]",
      "text/plain": [
       "<matplotlib.figure.Figure at 0x118f32a58>"
      ]
     },
     "metadata": {},
     "output_type": "display_data"
    }
   ],
   "source": [
    "# 使用pandas 讀入 CSV資料\n",
    "data = pd.read_csv(r'%s'%(csvfile_name))\n",
    "\n",
    "# 將時間str型態轉換為dateFrame格式，並設為索引\n",
    "data['date'] = pd.to_datetime(data['date'])\n",
    "data.set_index(\"date\", inplace=True)\n",
    "\n",
    "# 使用收盤價繪製10日均線(自營主力控盤依據，如果呈是死叉可能代表主力跑走了)\n",
    "mean = data['close'].rolling(10).mean()\n",
    "\n",
    "#繪製每天的收盤價(紅色)以及均線(藍色)\n",
    "data[\"close\"].plot(color='red')\n",
    "mean.plot(color='blue')\n",
    "plt.title('%s'%(stock_code))#圖表標題\n",
    "plt.grid(True)#用來顯示網格\n",
    "plt.show()"
   ]
  },
  {
   "cell_type": "code",
   "execution_count": null,
   "metadata": {},
   "outputs": [],
   "source": []
  }
 ],
 "metadata": {
  "colab": {
   "collapsed_sections": [],
   "name": "draw_stock_Kfor_beginner.ipynb",
   "provenance": []
  },
  "kernelspec": {
   "display_name": "Python 3",
   "language": "python",
   "name": "python3"
  },
  "language_info": {
   "codemirror_mode": {
    "name": "ipython",
    "version": 3
   },
   "file_extension": ".py",
   "mimetype": "text/x-python",
   "name": "python",
   "nbconvert_exporter": "python",
   "pygments_lexer": "ipython3",
   "version": "3.6.8"
  }
 },
 "nbformat": 4,
 "nbformat_minor": 1
}
